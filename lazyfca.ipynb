{
 "cells": [
  {
   "cell_type": "markdown",
   "metadata": {},
   "source": [
    "Import the library with all predefine functions"
   ]
  },
  {
   "cell_type": "code",
   "execution_count": 1,
   "metadata": {},
   "outputs": [],
   "source": [
    "import lazy_pipeline as lpipe\n",
    "import matplotlib.pyplot as plt\n",
    "\n",
    "import pandas as pd\n",
    "import numpy as np\n",
    "import time\n",
    "\n",
    "# preprocessing of numeric features\n",
    "from sklearn.preprocessing import KBinsDiscretizer\n",
    "\n",
    "# used metrics\n",
    "from sklearn.metrics import accuracy_score, f1_score\n"
   ]
  },
  {
   "cell_type": "markdown",
   "metadata": {},
   "source": [
    "Make the notebook wider"
   ]
  },
  {
   "cell_type": "code",
   "execution_count": 2,
   "metadata": {},
   "outputs": [
    {
     "data": {
      "text/html": [
       "<style>.container { width:100% !important; }</style>"
      ],
      "text/plain": [
       "<IPython.core.display.HTML object>"
      ]
     },
     "metadata": {},
     "output_type": "display_data"
    }
   ],
   "source": [
    "from IPython.display import display, HTML\n",
    "display(HTML(\"<style>.container { width:100% !important; }</style>\"))"
   ]
  },
  {
   "cell_type": "markdown",
   "metadata": {},
   "source": [
    "Check library versions"
   ]
  },
  {
   "cell_type": "code",
   "execution_count": 3,
   "metadata": {},
   "outputs": [
    {
     "name": "stdout",
     "output_type": "stream",
     "text": [
      "3.7.6\n",
      "1.0.1\n",
      "0.22.1\n",
      "1.0.1\n",
      "1.18.1\n"
     ]
    }
   ],
   "source": [
    "from platform import python_version\n",
    "import sklearn\n",
    "\n",
    "print(python_version())\n",
    "print(lpipe.pd.__version__)\n",
    "print(sklearn.__version__)\n",
    "print(pd.__version__)\n",
    "print(np.__version__)"
   ]
  },
  {
   "cell_type": "markdown",
   "metadata": {},
   "source": [
    "# Start of baseline"
   ]
  },
  {
   "cell_type": "code",
   "execution_count": 4,
   "metadata": {},
   "outputs": [],
   "source": [
    "def process_data(df):\n",
    "\n",
    "    # dataset preprocessing, replacing empty numeric values with column averages, categorical values unknown\n",
    "    # I keep no more than 10 of the most popular values of each categorical attribute\n",
    "    \n",
    "    for col in df.select_dtypes(['number']).columns:\n",
    "        df[col] = df[col].fillna(df[col].mean())\n",
    "        \n",
    "    for col in df.select_dtypes(['object']).columns:\n",
    "        df[col] = df[col].fillna('unknown')\n",
    "        use_values = df[col].value_counts().index.values[0:10]\n",
    "        df[col] = df[col].apply(lambda x: x if x in use_values else 'other')\n",
    "    \n",
    "    return df\n",
    "            \n",
    "    \n",
    "def discretize_data(df):\n",
    "    \n",
    "    # categorize the numerical features: divide into 5 intervals of equal length\n",
    "    \n",
    "    est = KBinsDiscretizer(n_bins=5, encode='ordinal', strategy='uniform')\n",
    "    for col in df.select_dtypes(['number']).columns:\n",
    "        df[col] = est.fit_transform(df[[col]])\n",
    "           \n",
    "    return df\n",
    "\n",
    "\n",
    "\n",
    "def get_scores(y_preds, y_preds_fixedtrain):\n",
    "    \n",
    "    # let's turn the calculation of metrics from the initial notebook into a function\n",
    "    # I decided to measure Accuracy and F1 score because they are ones of the most popular scores\n",
    "        \n",
    "    score_vals = {}\n",
    "    for score_f in [accuracy_score, f1_score]:\n",
    "        score_name = score_f.__name__\n",
    "        preds = y_preds\n",
    "        score_vals[score_name] = [score_f(y_test[:i], preds[:i]) for i in range(1, len(preds))]\n",
    "\n",
    "        score_name = score_f.__name__ + '_fixedtrain'\n",
    "        preds = y_preds_fixedtrain\n",
    "        score_vals[score_name] = [score_f(y_test[:i], preds[:i]) for i in range(1, len(preds))]\n",
    "    \n",
    "    return score_vals\n",
    "\n",
    "\n",
    "def get_scores_info (score_vals, t_preds, t_preds_fixedtrain):\n",
    "    \n",
    "    return {'accuracy_score' : np.mean(score_vals['accuracy_score']), \n",
    "            'accuracy_score_fixedtrain' : np.mean(score_vals['accuracy_score_fixedtrain']),\n",
    "            'f1_score' : np.mean(score_vals['f1_score']), \n",
    "            'f1_score_fixedtrain' : np.mean(score_vals['f1_score_fixedtrain']),            \n",
    "            't_preds': np.mean(t_preds), \n",
    "            't_preds_fixedtrain' : np.mean(t_preds_fixedtrain)}\n",
    "\n",
    "\n",
    "def plot_metrics(score_vals, t_preds, t_preds_fixedtrain):\n",
    "    \n",
    "    # plotting metrics and calculation time\n",
    "\n",
    "    plt.rcParams['figure.facecolor'] = (1,1,1,1) \n",
    "\n",
    "    fig, axs = plt.subplots(2, 2, figsize=(12, 8))\n",
    "\n",
    "    for ax, t in zip(axs[0],['accuracy_score', 'f1_score']):\n",
    "        ax.set_ylim(0-0.05, 1+0.05)\n",
    "        ax.plot(range(n_train+1, len(X)), score_vals[t], label='baseline clf.')\n",
    "        ax.plot(range(n_train+1, len(X)), score_vals[t+'_fixedtrain'], label='baseline clf. (fixed train)')\n",
    "\n",
    "    axs[1,0].plot(range(n_train, len(X)), t_preds, label='baseline clf.')\n",
    "    axs[1,0].plot(range(n_train, len(X)), t_preds_fixedtrain, label='baseline clf. (fixed train)')\n",
    "\n",
    "    for (ax, t_verb, dim) in zip(axs.flatten(), ['Accuracy score', 'F1 score', 'Prediction time'], ['','','(secs.)']):\n",
    "        ax.set_title('\\n'.join([f\"{t_verb} progression\", \"w.r.t. the number of train examples\"]), loc='left', size=18)\n",
    "        ax.set_xlabel('# of train examples', size=14)\n",
    "        ax.set_ylabel(f\"{t_verb} {dim}\".strip(),  size=14)\n",
    "        ax.legend()\n",
    "\n",
    "    axs[1,1].set_axis_off()    \n",
    "    plt.tight_layout()\n",
    "    plt.subplots_adjust()\n",
    "    \n",
    "    plt.show()"
   ]
  },
  {
   "cell_type": "markdown",
   "metadata": {},
   "source": [
    "### Data preparation"
   ]
  },
  {
   "cell_type": "markdown",
   "metadata": {},
   "source": [
    "Airline Passenger Satisfaction dataset\n",
    "\n",
    "https://www.kaggle.com/datasets/teejmahal20/airline-passenger-satisfaction"
   ]
  },
  {
   "cell_type": "code",
   "execution_count": 5,
   "metadata": {},
   "outputs": [
    {
     "name": "stdout",
     "output_type": "stream",
     "text": [
      "(25976, 23)\n"
     ]
    },
    {
     "data": {
      "text/html": [
       "<div>\n",
       "<style scoped>\n",
       "    .dataframe tbody tr th:only-of-type {\n",
       "        vertical-align: middle;\n",
       "    }\n",
       "\n",
       "    .dataframe tbody tr th {\n",
       "        vertical-align: top;\n",
       "    }\n",
       "\n",
       "    .dataframe thead th {\n",
       "        text-align: right;\n",
       "    }\n",
       "</style>\n",
       "<table border=\"1\" class=\"dataframe\">\n",
       "  <thead>\n",
       "    <tr style=\"text-align: right;\">\n",
       "      <th></th>\n",
       "      <th>Gender</th>\n",
       "      <th>Customer Type</th>\n",
       "      <th>Age</th>\n",
       "      <th>Type of Travel</th>\n",
       "      <th>Class</th>\n",
       "      <th>Flight Distance</th>\n",
       "      <th>Inflight wifi service</th>\n",
       "      <th>Departure/Arrival time convenient</th>\n",
       "      <th>Ease of Online booking</th>\n",
       "      <th>Gate location</th>\n",
       "      <th>...</th>\n",
       "      <th>Inflight entertainment</th>\n",
       "      <th>On-board service</th>\n",
       "      <th>Leg room service</th>\n",
       "      <th>Baggage handling</th>\n",
       "      <th>Checkin service</th>\n",
       "      <th>Inflight service</th>\n",
       "      <th>Cleanliness</th>\n",
       "      <th>Departure Delay in Minutes</th>\n",
       "      <th>Arrival Delay in Minutes</th>\n",
       "      <th>satisfaction</th>\n",
       "    </tr>\n",
       "  </thead>\n",
       "  <tbody>\n",
       "    <tr>\n",
       "      <th>0</th>\n",
       "      <td>Female</td>\n",
       "      <td>Loyal Customer</td>\n",
       "      <td>52</td>\n",
       "      <td>Business travel</td>\n",
       "      <td>Eco</td>\n",
       "      <td>160</td>\n",
       "      <td>5</td>\n",
       "      <td>4</td>\n",
       "      <td>3</td>\n",
       "      <td>4</td>\n",
       "      <td>...</td>\n",
       "      <td>5</td>\n",
       "      <td>5</td>\n",
       "      <td>5</td>\n",
       "      <td>5</td>\n",
       "      <td>2</td>\n",
       "      <td>5</td>\n",
       "      <td>5</td>\n",
       "      <td>50</td>\n",
       "      <td>44.0</td>\n",
       "      <td>True</td>\n",
       "    </tr>\n",
       "    <tr>\n",
       "      <th>1</th>\n",
       "      <td>Female</td>\n",
       "      <td>Loyal Customer</td>\n",
       "      <td>36</td>\n",
       "      <td>Business travel</td>\n",
       "      <td>Business</td>\n",
       "      <td>2863</td>\n",
       "      <td>1</td>\n",
       "      <td>1</td>\n",
       "      <td>3</td>\n",
       "      <td>1</td>\n",
       "      <td>...</td>\n",
       "      <td>4</td>\n",
       "      <td>4</td>\n",
       "      <td>4</td>\n",
       "      <td>4</td>\n",
       "      <td>3</td>\n",
       "      <td>4</td>\n",
       "      <td>5</td>\n",
       "      <td>0</td>\n",
       "      <td>0.0</td>\n",
       "      <td>True</td>\n",
       "    </tr>\n",
       "    <tr>\n",
       "      <th>2</th>\n",
       "      <td>Male</td>\n",
       "      <td>disloyal Customer</td>\n",
       "      <td>20</td>\n",
       "      <td>Business travel</td>\n",
       "      <td>Eco</td>\n",
       "      <td>192</td>\n",
       "      <td>2</td>\n",
       "      <td>0</td>\n",
       "      <td>2</td>\n",
       "      <td>4</td>\n",
       "      <td>...</td>\n",
       "      <td>2</td>\n",
       "      <td>4</td>\n",
       "      <td>1</td>\n",
       "      <td>3</td>\n",
       "      <td>2</td>\n",
       "      <td>2</td>\n",
       "      <td>2</td>\n",
       "      <td>0</td>\n",
       "      <td>0.0</td>\n",
       "      <td>False</td>\n",
       "    </tr>\n",
       "    <tr>\n",
       "      <th>3</th>\n",
       "      <td>Male</td>\n",
       "      <td>Loyal Customer</td>\n",
       "      <td>44</td>\n",
       "      <td>Business travel</td>\n",
       "      <td>Business</td>\n",
       "      <td>3377</td>\n",
       "      <td>0</td>\n",
       "      <td>0</td>\n",
       "      <td>0</td>\n",
       "      <td>2</td>\n",
       "      <td>...</td>\n",
       "      <td>1</td>\n",
       "      <td>1</td>\n",
       "      <td>1</td>\n",
       "      <td>1</td>\n",
       "      <td>3</td>\n",
       "      <td>1</td>\n",
       "      <td>4</td>\n",
       "      <td>0</td>\n",
       "      <td>6.0</td>\n",
       "      <td>True</td>\n",
       "    </tr>\n",
       "    <tr>\n",
       "      <th>4</th>\n",
       "      <td>Female</td>\n",
       "      <td>Loyal Customer</td>\n",
       "      <td>49</td>\n",
       "      <td>Business travel</td>\n",
       "      <td>Eco</td>\n",
       "      <td>1182</td>\n",
       "      <td>2</td>\n",
       "      <td>3</td>\n",
       "      <td>4</td>\n",
       "      <td>3</td>\n",
       "      <td>...</td>\n",
       "      <td>2</td>\n",
       "      <td>2</td>\n",
       "      <td>2</td>\n",
       "      <td>2</td>\n",
       "      <td>4</td>\n",
       "      <td>2</td>\n",
       "      <td>4</td>\n",
       "      <td>0</td>\n",
       "      <td>20.0</td>\n",
       "      <td>True</td>\n",
       "    </tr>\n",
       "  </tbody>\n",
       "</table>\n",
       "<p>5 rows × 23 columns</p>\n",
       "</div>"
      ],
      "text/plain": [
       "   Gender      Customer Type  Age   Type of Travel     Class  Flight Distance  \\\n",
       "0  Female     Loyal Customer   52  Business travel       Eco              160   \n",
       "1  Female     Loyal Customer   36  Business travel  Business             2863   \n",
       "2    Male  disloyal Customer   20  Business travel       Eco              192   \n",
       "3    Male     Loyal Customer   44  Business travel  Business             3377   \n",
       "4  Female     Loyal Customer   49  Business travel       Eco             1182   \n",
       "\n",
       "   Inflight wifi service  Departure/Arrival time convenient  \\\n",
       "0                      5                                  4   \n",
       "1                      1                                  1   \n",
       "2                      2                                  0   \n",
       "3                      0                                  0   \n",
       "4                      2                                  3   \n",
       "\n",
       "   Ease of Online booking  Gate location  ...  Inflight entertainment  \\\n",
       "0                       3              4  ...                       5   \n",
       "1                       3              1  ...                       4   \n",
       "2                       2              4  ...                       2   \n",
       "3                       0              2  ...                       1   \n",
       "4                       4              3  ...                       2   \n",
       "\n",
       "   On-board service  Leg room service  Baggage handling  Checkin service  \\\n",
       "0                 5                 5                 5                2   \n",
       "1                 4                 4                 4                3   \n",
       "2                 4                 1                 3                2   \n",
       "3                 1                 1                 1                3   \n",
       "4                 2                 2                 2                4   \n",
       "\n",
       "   Inflight service  Cleanliness  Departure Delay in Minutes  \\\n",
       "0                 5            5                          50   \n",
       "1                 4            5                           0   \n",
       "2                 2            2                           0   \n",
       "3                 1            4                           0   \n",
       "4                 2            4                           0   \n",
       "\n",
       "   Arrival Delay in Minutes  satisfaction  \n",
       "0                      44.0          True  \n",
       "1                       0.0          True  \n",
       "2                       0.0         False  \n",
       "3                       6.0          True  \n",
       "4                      20.0          True  \n",
       "\n",
       "[5 rows x 23 columns]"
      ]
     },
     "execution_count": 5,
     "metadata": {},
     "output_type": "execute_result"
    }
   ],
   "source": [
    "# Let's read the dataset, convert the target variable to a boolean type, and remove service columns\n",
    "\n",
    "data = pd.read_csv('data/flight.csv')\n",
    "y_name = 'satisfaction'\n",
    "data[y_name] = (data[y_name]=='satisfied')\n",
    "data = data.iloc[:,2:]\n",
    "\n",
    "print(data.shape)\n",
    "data.head(5)\n"
   ]
  },
  {
   "cell_type": "markdown",
   "metadata": {},
   "source": [
    "Let's limit the sample to 500 objects and process the data"
   ]
  },
  {
   "cell_type": "code",
   "execution_count": 6,
   "metadata": {},
   "outputs": [],
   "source": [
    "data = data.sample(500, random_state = 1)\n",
    "\n",
    "data = process_data(data)\n",
    "data = discretize_data(data)"
   ]
  },
  {
   "cell_type": "markdown",
   "metadata": {},
   "source": [
    "Data binarization: one-hot encoding"
   ]
  },
  {
   "cell_type": "code",
   "execution_count": 7,
   "metadata": {},
   "outputs": [
    {
     "name": "stdout",
     "output_type": "stream",
     "text": [
      "(500, 99)\n"
     ]
    },
    {
     "data": {
      "text/html": [
       "<div>\n",
       "<style scoped>\n",
       "    .dataframe tbody tr th:only-of-type {\n",
       "        vertical-align: middle;\n",
       "    }\n",
       "\n",
       "    .dataframe tbody tr th {\n",
       "        vertical-align: top;\n",
       "    }\n",
       "\n",
       "    .dataframe thead th {\n",
       "        text-align: right;\n",
       "    }\n",
       "</style>\n",
       "<table border=\"1\" class=\"dataframe\">\n",
       "  <thead>\n",
       "    <tr style=\"text-align: right;\">\n",
       "      <th></th>\n",
       "      <th>Gender: Female</th>\n",
       "      <th>Gender: Male</th>\n",
       "      <th>Customer Type: Loyal Customer</th>\n",
       "      <th>Customer Type: disloyal Customer</th>\n",
       "      <th>Age: 0.0</th>\n",
       "      <th>Age: 1.0</th>\n",
       "      <th>Age: 2.0</th>\n",
       "      <th>Age: 3.0</th>\n",
       "      <th>Age: 4.0</th>\n",
       "      <th>Type of Travel: Business travel</th>\n",
       "      <th>...</th>\n",
       "      <th>Departure Delay in Minutes: 0.0</th>\n",
       "      <th>Departure Delay in Minutes: 1.0</th>\n",
       "      <th>Departure Delay in Minutes: 2.0</th>\n",
       "      <th>Departure Delay in Minutes: 3.0</th>\n",
       "      <th>Departure Delay in Minutes: 4.0</th>\n",
       "      <th>Arrival Delay in Minutes: 0.0</th>\n",
       "      <th>Arrival Delay in Minutes: 1.0</th>\n",
       "      <th>Arrival Delay in Minutes: 2.0</th>\n",
       "      <th>Arrival Delay in Minutes: 3.0</th>\n",
       "      <th>Arrival Delay in Minutes: 4.0</th>\n",
       "    </tr>\n",
       "  </thead>\n",
       "  <tbody>\n",
       "    <tr>\n",
       "      <th>21362</th>\n",
       "      <td>True</td>\n",
       "      <td>False</td>\n",
       "      <td>True</td>\n",
       "      <td>False</td>\n",
       "      <td>False</td>\n",
       "      <td>False</td>\n",
       "      <td>False</td>\n",
       "      <td>False</td>\n",
       "      <td>True</td>\n",
       "      <td>False</td>\n",
       "      <td>...</td>\n",
       "      <td>True</td>\n",
       "      <td>False</td>\n",
       "      <td>False</td>\n",
       "      <td>False</td>\n",
       "      <td>False</td>\n",
       "      <td>True</td>\n",
       "      <td>False</td>\n",
       "      <td>False</td>\n",
       "      <td>False</td>\n",
       "      <td>False</td>\n",
       "    </tr>\n",
       "    <tr>\n",
       "      <th>11437</th>\n",
       "      <td>False</td>\n",
       "      <td>True</td>\n",
       "      <td>False</td>\n",
       "      <td>True</td>\n",
       "      <td>False</td>\n",
       "      <td>True</td>\n",
       "      <td>False</td>\n",
       "      <td>False</td>\n",
       "      <td>False</td>\n",
       "      <td>True</td>\n",
       "      <td>...</td>\n",
       "      <td>True</td>\n",
       "      <td>False</td>\n",
       "      <td>False</td>\n",
       "      <td>False</td>\n",
       "      <td>False</td>\n",
       "      <td>True</td>\n",
       "      <td>False</td>\n",
       "      <td>False</td>\n",
       "      <td>False</td>\n",
       "      <td>False</td>\n",
       "    </tr>\n",
       "  </tbody>\n",
       "</table>\n",
       "<p>2 rows × 99 columns</p>\n",
       "</div>"
      ],
      "text/plain": [
       "       Gender: Female  Gender: Male  Customer Type: Loyal Customer  \\\n",
       "21362            True         False                           True   \n",
       "11437           False          True                          False   \n",
       "\n",
       "       Customer Type: disloyal Customer  Age: 0.0  Age: 1.0  Age: 2.0  \\\n",
       "21362                             False     False     False     False   \n",
       "11437                              True     False      True     False   \n",
       "\n",
       "       Age: 3.0  Age: 4.0  Type of Travel: Business travel  ...  \\\n",
       "21362     False      True                            False  ...   \n",
       "11437     False     False                             True  ...   \n",
       "\n",
       "       Departure Delay in Minutes: 0.0  Departure Delay in Minutes: 1.0  \\\n",
       "21362                             True                            False   \n",
       "11437                             True                            False   \n",
       "\n",
       "       Departure Delay in Minutes: 2.0  Departure Delay in Minutes: 3.0  \\\n",
       "21362                            False                            False   \n",
       "11437                            False                            False   \n",
       "\n",
       "       Departure Delay in Minutes: 4.0  Arrival Delay in Minutes: 0.0  \\\n",
       "21362                            False                           True   \n",
       "11437                            False                           True   \n",
       "\n",
       "       Arrival Delay in Minutes: 1.0  Arrival Delay in Minutes: 2.0  \\\n",
       "21362                          False                          False   \n",
       "11437                          False                          False   \n",
       "\n",
       "       Arrival Delay in Minutes: 3.0  Arrival Delay in Minutes: 4.0  \n",
       "21362                          False                          False  \n",
       "11437                          False                          False  \n",
       "\n",
       "[2 rows x 99 columns]"
      ]
     },
     "execution_count": 7,
     "metadata": {},
     "output_type": "execute_result"
    }
   ],
   "source": [
    "y = data[y_name]\n",
    "X = lpipe.binarize_X(data.drop(y_name, axis=1))\n",
    "print(X.shape)\n",
    "X.head(2)"
   ]
  },
  {
   "cell_type": "markdown",
   "metadata": {},
   "source": [
    "Representation of a feature matrix as a list of sets:"
   ]
  },
  {
   "cell_type": "code",
   "execution_count": 8,
   "metadata": {},
   "outputs": [
    {
     "data": {
      "text/plain": [
       "{'Age: 4.0',\n",
       " 'Arrival Delay in Minutes: 0.0',\n",
       " 'Baggage handling: 3.0',\n",
       " 'Checkin service: 4.0',\n",
       " 'Class: Eco',\n",
       " 'Cleanliness: 3.0',\n",
       " 'Customer Type: Loyal Customer',\n",
       " 'Departure Delay in Minutes: 0.0',\n",
       " 'Departure/Arrival time convenient: 4.0',\n",
       " 'Ease of Online booking: 3.0',\n",
       " 'Flight Distance: 1.0',\n",
       " 'Food and drink: 2.0',\n",
       " 'Gate location: 0.0',\n",
       " 'Gender: Female',\n",
       " 'Inflight entertainment: 3.0',\n",
       " 'Inflight service: 3.0',\n",
       " 'Inflight wifi service: 3.0',\n",
       " 'Leg room service: 3.0',\n",
       " 'On-board service: 3.0',\n",
       " 'Online boarding: 3.0',\n",
       " 'Seat comfort: 3.0',\n",
       " 'Type of Travel: Personal Travel'}"
      ]
     },
     "execution_count": 8,
     "metadata": {},
     "output_type": "execute_result"
    }
   ],
   "source": [
    "X_bin = [set(X.columns[x]) for idx, x in X.iterrows()]\n",
    "X_bin[0]"
   ]
  },
  {
   "cell_type": "markdown",
   "metadata": {},
   "source": [
    "Сonverting a target variable to a list:"
   ]
  },
  {
   "cell_type": "code",
   "execution_count": 9,
   "metadata": {},
   "outputs": [],
   "source": [
    "y = y.values.tolist()"
   ]
  },
  {
   "cell_type": "markdown",
   "metadata": {},
   "source": [
    "We assume that at the initial stage we have only 10% of the total sample:"
   ]
  },
  {
   "cell_type": "code",
   "execution_count": 10,
   "metadata": {},
   "outputs": [
    {
     "data": {
      "text/plain": [
       "(50, 450)"
      ]
     },
     "execution_count": 10,
     "metadata": {},
     "output_type": "execute_result"
    }
   ],
   "source": [
    "n_train = int(len(X)*0.1)\n",
    "n_test = len(X) - n_train\n",
    "y_test = y[n_train:]\n",
    "\n",
    "n_train, n_test"
   ]
  },
  {
   "cell_type": "markdown",
   "metadata": {},
   "source": [
    "### Application of the model"
   ]
  },
  {
   "cell_type": "code",
   "execution_count": 11,
   "metadata": {},
   "outputs": [
    {
     "name": "stderr",
     "output_type": "stream",
     "text": [
      "Predicting step by step: 100%|███████████████████████████████████████████████████████| 500/500 [00:07<00:00, 71.22it/s]"
     ]
    },
    {
     "name": "stdout",
     "output_type": "stream",
     "text": [
      "Wall time: 7.02 s\n"
     ]
    },
    {
     "name": "stderr",
     "output_type": "stream",
     "text": [
      "\n"
     ]
    }
   ],
   "source": [
    "%%time\n",
    "gen = lpipe.predict_array(X_bin, y, n_train, use_tqdm=True)\n",
    "y_preds, t_preds = lpipe.apply_stopwatch(gen)\n",
    "\n",
    "# updating the training sample"
   ]
  },
  {
   "cell_type": "code",
   "execution_count": 12,
   "metadata": {},
   "outputs": [
    {
     "name": "stderr",
     "output_type": "stream",
     "text": [
      "Predicting step by step: 100%|█████████████████████████████████████████████████████| 500/500 [00:00<00:00, 2110.59it/s]"
     ]
    },
    {
     "name": "stdout",
     "output_type": "stream",
     "text": [
      "Wall time: 241 ms\n"
     ]
    },
    {
     "name": "stderr",
     "output_type": "stream",
     "text": [
      "\n"
     ]
    }
   ],
   "source": [
    "%%time\n",
    "gen = list(lpipe.predict_array(X_bin, y, n_train, use_tqdm=True, update_train=False))\n",
    "y_preds_fixedtrain, t_preds_fixedtrain = lpipe.apply_stopwatch(gen)\n",
    "\n",
    "# without updating the training sample"
   ]
  },
  {
   "cell_type": "code",
   "execution_count": 13,
   "metadata": {
    "scrolled": true
   },
   "outputs": [
    {
     "data": {
      "image/png": "[encoded data removed]",
      "text/plain": [
       "<Figure size 864x576 with 4 Axes>"
      ]
     },
     "metadata": {},
     "output_type": "display_data"
    }
   ],
   "source": [
    "scores = get_scores(y_preds, y_preds_fixedtrain)\n",
    "\n",
    "plot_metrics(scores, t_preds, t_preds_fixedtrain)"
   ]
  },
  {
   "cell_type": "code",
   "execution_count": 14,
   "metadata": {},
   "outputs": [
    {
     "data": {
      "text/plain": [
       "{'accuracy_score': 0.7562200315830624,\n",
       " 'accuracy_score_fixedtrain': 0.7212799822789326,\n",
       " 'f1_score': 0.7625785966832718,\n",
       " 'f1_score_fixedtrain': 0.7376621185160739,\n",
       " 't_preds': 0.01560578982035319,\n",
       " 't_preds_fixedtrain': 0.0}"
      ]
     },
     "execution_count": 14,
     "metadata": {},
     "output_type": "execute_result"
    }
   ],
   "source": [
    "get_scores_info(scores, t_preds, t_preds_fixedtrain)"
   ]
  },
  {
   "cell_type": "markdown",
   "metadata": {},
   "source": [
    "# Modification of the algorithm"
   ]
  },
  {
   "cell_type": "code",
   "execution_count": 16,
   "metadata": {},
   "outputs": [],
   "source": [
    "# used algorithms\n",
    "\n",
    "import lightgbm as lgb\n",
    "from lazy_pipeline import predict_with_generators\n",
    "from sklearn.tree import DecisionTreeClassifier"
   ]
  },
  {
   "cell_type": "markdown",
   "metadata": {},
   "source": [
    "Instead of crossing sets, we use the matrix multiplication function in numpy. Let's add the ability to use algorithms (decision tree and gradient boosting) in lazy pipeline."
   ]
  },
  {
   "cell_type": "code",
   "execution_count": 17,
   "metadata": {},
   "outputs": [],
   "source": [
    "def predict_with_dot(x, X_train, Y_train):\n",
    "    \n",
    "    X_pos = np.array([x_train for x_train, y in zip(X_train, Y_train) if y])\n",
    "    X_neg = np.array([x_train for x_train, y in zip(X_train, Y_train) if not y])\n",
    "    \n",
    "    pos_dot = np.dot(x,X_pos.T).sum()\n",
    "    neg_dot = np.dot(x,X_neg.T).sum()\n",
    "\n",
    "    return pos_dot > neg_dot\n",
    "\n",
    "\n",
    "def predict_with_model(x, X_train, Y_train, use_model):\n",
    "    \n",
    "    model = use_model\n",
    "    model.fit(X_train,Y_train)    \n",
    "    res = model.predict([x])\n",
    "\n",
    "    return res[0]\n",
    "\n",
    "\n",
    "# I used decision tree for testing, and gradient boosting (without any adjustment of model parameters)\n",
    "\n",
    "def predict_with_tree(x, X_train, Y_train):\n",
    "    return predict_with_model(x, X_train, Y_train, DecisionTreeClassifier(max_depth = 6))\n",
    "\n",
    "\n",
    "def predict_with_boosting(x, X_train, Y_train):\n",
    "    return predict_with_model(x, X_train, Y_train, lgb.LGBMClassifier(max_depth =4, n_estimators = 100))\n",
    "\n",
    "\n",
    "def train_lpipe(X, y, n_train, predict_function, update_train):\n",
    "      \n",
    "    gen = lpipe.predict_array(X = X, Y = y, n_train = n_train, use_tqdm = False, predict_func = predict_function, update_train = update_train )\n",
    "    y_preds, t_preds = lpipe.apply_stopwatch(gen)\n",
    "    \n",
    "    return y_preds, t_preds\n",
    "\n",
    "\n",
    "#It’s a high order function, which calls all the algorithms above and counts score\n",
    "\n",
    "def get_results(predict_function, X, y, n_train):\n",
    "    \n",
    "    results = {}\n",
    "    \n",
    "    results['model_name'] = predict_function.__name__\n",
    "\n",
    "    t_start = time.time()\n",
    "    y_preds, t_preds = train_lpipe(X = X, y = y, n_train = n_train, predict_function = predict_function, update_train = True)\n",
    "    t_stop = time.time()\n",
    "    \n",
    "    results['upd_time'] = t_stop - t_start\n",
    "    \n",
    "    t_start = time.time()\n",
    "    y_preds_fixedtrain, t_preds_fixedtrain = train_lpipe(X = X, y = y, n_train = n_train, predict_function = predict_function, update_train = False)\n",
    "    t_stop = time.time()\n",
    "    \n",
    "    results['fixed_time'] = t_stop - t_start    \n",
    "\n",
    "    scores = get_scores(y_preds, y_preds_fixedtrain)\n",
    "\n",
    "    scores_info = get_scores_info(scores, t_preds, t_preds_fixedtrain)\n",
    "    for key in scores_info:\n",
    "        results[key] = scores_info[key]\n",
    "    \n",
    "    return results"
   ]
  },
  {
   "cell_type": "code",
   "execution_count": 18,
   "metadata": {},
   "outputs": [],
   "source": [
    "# convert all data to numeric format\n",
    "\n",
    "X_int = X.astype(int).values"
   ]
  },
  {
   "cell_type": "code",
   "execution_count": 19,
   "metadata": {},
   "outputs": [
    {
     "name": "stderr",
     "output_type": "stream",
     "text": [
      "C:\\ProgramData\\Anaconda3\\lib\\site-packages\\sklearn\\metrics\\_classification.py:1515: UndefinedMetricWarning: F-score is ill-defined and being set to 0.0 due to no true nor predicted samples. Use `zero_division` parameter to control this behavior.\n",
      "  average, \"true nor predicted\", 'F-score is', len(true_sum)\n",
      "C:\\ProgramData\\Anaconda3\\lib\\site-packages\\sklearn\\metrics\\_classification.py:1515: UndefinedMetricWarning: F-score is ill-defined and being set to 0.0 due to no true nor predicted samples. Use `zero_division` parameter to control this behavior.\n",
      "  average, \"true nor predicted\", 'F-score is', len(true_sum)\n",
      "C:\\ProgramData\\Anaconda3\\lib\\site-packages\\sklearn\\metrics\\_classification.py:1515: UndefinedMetricWarning: F-score is ill-defined and being set to 0.0 due to no true nor predicted samples. Use `zero_division` parameter to control this behavior.\n",
      "  average, \"true nor predicted\", 'F-score is', len(true_sum)\n"
     ]
    }
   ],
   "source": [
    "df_results = pd.DataFrame([get_results(predict_function, X_int, y, n_train) for predict_function in [predict_with_dot, predict_with_tree, predict_with_boosting]])"
   ]
  },
  {
   "cell_type": "code",
   "execution_count": 20,
   "metadata": {},
   "outputs": [
    {
     "data": {
      "text/html": [
       "<div>\n",
       "<style scoped>\n",
       "    .dataframe tbody tr th:only-of-type {\n",
       "        vertical-align: middle;\n",
       "    }\n",
       "\n",
       "    .dataframe tbody tr th {\n",
       "        vertical-align: top;\n",
       "    }\n",
       "\n",
       "    .dataframe thead th {\n",
       "        text-align: right;\n",
       "    }\n",
       "</style>\n",
       "<table border=\"1\" class=\"dataframe\">\n",
       "  <thead>\n",
       "    <tr style=\"text-align: right;\">\n",
       "      <th></th>\n",
       "      <th>model_name</th>\n",
       "      <th>upd_time</th>\n",
       "      <th>fixed_time</th>\n",
       "      <th>accuracy_score</th>\n",
       "      <th>accuracy_score_fixedtrain</th>\n",
       "      <th>f1_score</th>\n",
       "      <th>f1_score_fixedtrain</th>\n",
       "      <th>t_preds</th>\n",
       "      <th>t_preds_fixedtrain</th>\n",
       "    </tr>\n",
       "  </thead>\n",
       "  <tbody>\n",
       "    <tr>\n",
       "      <th>0</th>\n",
       "      <td>predict_with_dot</td>\n",
       "      <td>0.148907</td>\n",
       "      <td>0.037977</td>\n",
       "      <td>0.747410</td>\n",
       "      <td>0.817870</td>\n",
       "      <td>0.581582</td>\n",
       "      <td>0.741756</td>\n",
       "      <td>0.000331</td>\n",
       "      <td>0.000084</td>\n",
       "    </tr>\n",
       "    <tr>\n",
       "      <th>1</th>\n",
       "      <td>predict_with_tree</td>\n",
       "      <td>0.727553</td>\n",
       "      <td>0.263840</td>\n",
       "      <td>0.836064</td>\n",
       "      <td>0.785045</td>\n",
       "      <td>0.803344</td>\n",
       "      <td>0.728630</td>\n",
       "      <td>0.001617</td>\n",
       "      <td>0.000584</td>\n",
       "    </tr>\n",
       "    <tr>\n",
       "      <th>2</th>\n",
       "      <td>predict_with_boosting</td>\n",
       "      <td>10.372624</td>\n",
       "      <td>4.307353</td>\n",
       "      <td>0.862641</td>\n",
       "      <td>0.807403</td>\n",
       "      <td>0.823205</td>\n",
       "      <td>0.762033</td>\n",
       "      <td>0.023050</td>\n",
       "      <td>0.009572</td>\n",
       "    </tr>\n",
       "  </tbody>\n",
       "</table>\n",
       "</div>"
      ],
      "text/plain": [
       "              model_name   upd_time  fixed_time  accuracy_score  \\\n",
       "0       predict_with_dot   0.148907    0.037977        0.747410   \n",
       "1      predict_with_tree   0.727553    0.263840        0.836064   \n",
       "2  predict_with_boosting  10.372624    4.307353        0.862641   \n",
       "\n",
       "   accuracy_score_fixedtrain  f1_score  f1_score_fixedtrain   t_preds  \\\n",
       "0                   0.817870  0.581582             0.741756  0.000331   \n",
       "1                   0.785045  0.803344             0.728630  0.001617   \n",
       "2                   0.807403  0.823205             0.762033  0.023050   \n",
       "\n",
       "   t_preds_fixedtrain  \n",
       "0            0.000084  \n",
       "1            0.000584  \n",
       "2            0.009572  "
      ]
     },
     "execution_count": 20,
     "metadata": {},
     "output_type": "execute_result"
    }
   ],
   "source": [
    "# final table for comparison\n",
    "\n",
    "df_results"
   ]
  }
 ],
 "metadata": {
  "kernelspec": {
   "display_name": "Python 3 (ipykernel)",
   "language": "python",
   "name": "python3"
  },
  "language_info": {
   "codemirror_mode": {
    "name": "ipython",
    "version": 3
   },
   "file_extension": ".py",
   "mimetype": "text/x-python",
   "name": "python",
   "nbconvert_exporter": "python",
   "pygments_lexer": "ipython3",
   "version": "3.9.13"
  }
 },
 "nbformat": 4,
 "nbformat_minor": 1
}
